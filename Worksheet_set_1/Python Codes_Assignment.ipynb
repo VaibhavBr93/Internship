{
 "cells": [
  {
   "cell_type": "markdown",
   "id": "3d70e649",
   "metadata": {},
   "source": [
    "11. Write a python program to find the factorial of a number."
   ]
  },
  {
   "cell_type": "code",
   "execution_count": 49,
   "id": "b0d17f6f",
   "metadata": {},
   "outputs": [
    {
     "name": "stdout",
     "output_type": "stream",
     "text": [
      "Enter any number : 6\n",
      "The factorial of 6 is 720\n"
     ]
    }
   ],
   "source": [
    "num = int(input('Enter any number : '))\n",
    "\n",
    "fact = 1\n",
    "\n",
    "if num == 0:\n",
    "    print(\"The factorial of 0 is 1\")\n",
    "    \n",
    "else:\n",
    "    for j in range(1,num+1):\n",
    "      fact = fact*j\n",
    "    \n",
    "    print('The factorial of', num, 'is', fact)\n",
    "   "
   ]
  },
  {
   "cell_type": "code",
   "execution_count": null,
   "id": "7909c31b",
   "metadata": {},
   "outputs": [],
   "source": []
  },
  {
   "cell_type": "markdown",
   "id": "7b09b3fb",
   "metadata": {},
   "source": [
    "12. Write a python program to find whether a number is prime or composite."
   ]
  },
  {
   "cell_type": "code",
   "execution_count": 7,
   "id": "a94b5d67",
   "metadata": {},
   "outputs": [
    {
     "name": "stdout",
     "output_type": "stream",
     "text": [
      "Enter any number7\n",
      "The given number is a prime number.\n"
     ]
    }
   ],
   "source": [
    "num = int(input('Enter any number'))\n",
    "\n",
    "if num > 1:\n",
    "    for i in range(2, num):\n",
    "        if num % i == 0:\n",
    "            print ('The given number is not a prime number.')\n",
    "            break\n",
    "    \n",
    "    else:\n",
    "        print('The given number is a prime number.')\n",
    "    \n",
    "elif num == 0 or num ==1:\n",
    "    print('The given number is neither a prime number nor composite number.')\n",
    "    \n",
    "else:\n",
    "    print('The given number is a composite number.')\n"
   ]
  },
  {
   "cell_type": "code",
   "execution_count": null,
   "id": "9b31919c",
   "metadata": {},
   "outputs": [],
   "source": []
  },
  {
   "cell_type": "markdown",
   "id": "5d0a9e48",
   "metadata": {},
   "source": [
    "13. Write a python program to check whether a given string is palindrome or not."
   ]
  },
  {
   "cell_type": "code",
   "execution_count": 47,
   "id": "c573ce64",
   "metadata": {},
   "outputs": [
    {
     "name": "stdout",
     "output_type": "stream",
     "text": [
      "Enter any word : eye\n",
      "The given string is a palindrome.\n"
     ]
    }
   ],
   "source": [
    "Str = str(input('Enter any word : '))\n",
    "\n",
    "if Str == Str[::-1]:\n",
    "    print(\"The given string is a palindrome.\")\n",
    "    \n",
    "else:\n",
    "    print(\"The given string is not a palindrome\")\n",
    "    "
   ]
  },
  {
   "cell_type": "code",
   "execution_count": null,
   "id": "7049a5d4",
   "metadata": {},
   "outputs": [],
   "source": []
  },
  {
   "cell_type": "markdown",
   "id": "a52f5a3c",
   "metadata": {},
   "source": [
    "14. Write a Python program to get the third side of right-angled triangle from two given sides."
   ]
  },
  {
   "cell_type": "code",
   "execution_count": 41,
   "id": "6256b6f3",
   "metadata": {},
   "outputs": [
    {
     "name": "stdout",
     "output_type": "stream",
     "text": [
      "Enter any number : 3\n",
      "Enter any number : 4\n",
      "Third side of the triangle is : 5\n"
     ]
    }
   ],
   "source": [
    "#defining two sides of the triangle\n",
    "\n",
    "a = int(input('Enter any number : '))\n",
    "b = int(input('Enter any number : '))\n",
    "\n",
    "x = int((a**2)+(b**2))\n",
    "y = int(x**(1/2))\n",
    "\n",
    "print('Third side of the triangle is :', y)\n"
   ]
  },
  {
   "cell_type": "code",
   "execution_count": null,
   "id": "9ecedadd",
   "metadata": {},
   "outputs": [],
   "source": []
  },
  {
   "cell_type": "markdown",
   "id": "dd5367d2",
   "metadata": {},
   "source": [
    "15. Write a python program to print the frequency of each of the characters present in a given string."
   ]
  },
  {
   "cell_type": "code",
   "execution_count": 32,
   "id": "cec55c4a",
   "metadata": {},
   "outputs": [
    {
     "name": "stdout",
     "output_type": "stream",
     "text": [
      "Enter any word : Trigonometry\n",
      "T:1, r:2, i:1, g:1, o:2, n:1, o:2, m:1, e:1, t:1, r:2, y:1, "
     ]
    }
   ],
   "source": [
    "Str = str(input(\"Enter any word : \"))\n",
    "\n",
    "for k in Str:\n",
    "    freq = Str.count(k)\n",
    "    \n",
    "    print(str(k) + \":\" + str(freq), end = \", \")\n"
   ]
  },
  {
   "cell_type": "code",
   "execution_count": null,
   "id": "c311a99b",
   "metadata": {},
   "outputs": [],
   "source": []
  }
 ],
 "metadata": {
  "kernelspec": {
   "display_name": "Python 3 (ipykernel)",
   "language": "python",
   "name": "python3"
  },
  "language_info": {
   "codemirror_mode": {
    "name": "ipython",
    "version": 3
   },
   "file_extension": ".py",
   "mimetype": "text/x-python",
   "name": "python",
   "nbconvert_exporter": "python",
   "pygments_lexer": "ipython3",
   "version": "3.11.5"
  }
 },
 "nbformat": 4,
 "nbformat_minor": 5
}
